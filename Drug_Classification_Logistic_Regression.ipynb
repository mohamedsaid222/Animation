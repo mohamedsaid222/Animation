{
  "metadata": {
    "kernelspec": {
      "language": "python",
      "display_name": "Python 3",
      "name": "python3"
    },
    "language_info": {
      "name": "python",
      "version": "3.11.13",
      "mimetype": "text/x-python",
      "codemirror_mode": {
        "name": "ipython",
        "version": 3
      },
      "pygments_lexer": "ipython3",
      "nbconvert_exporter": "python",
      "file_extension": ".py"
    },
    "kaggle": {
      "accelerator": "none",
      "dataSources": [
        {
          "sourceId": 1419436,
          "sourceType": "datasetVersion",
          "datasetId": 830916
        }
      ],
      "dockerImageVersionId": 31089,
      "isInternetEnabled": true,
      "language": "python",
      "sourceType": "notebook",
      "isGpuEnabled": false
    },
    "colab": {
      "name": "Drug Classification - Logistic Regression ",
      "provenance": [],
      "include_colab_link": true
    }
  },
  "nbformat_minor": 0,
  "nbformat": 4,
  "cells": [
    {
      "cell_type": "markdown",
      "metadata": {
        "id": "view-in-github",
        "colab_type": "text"
      },
      "source": [
        "<a href=\"https://colab.research.google.com/github/mohamedsaid222/Animation/blob/main/Drug_Classification_Logistic_Regression.ipynb\" target=\"_parent\"><img src=\"https://colab.research.google.com/assets/colab-badge.svg\" alt=\"Open In Colab\"/></a>"
      ]
    },
    {
      "source": [
        "# IMPORTANT: RUN THIS CELL IN ORDER TO IMPORT YOUR KAGGLE DATA SOURCES,\n",
        "# THEN FEEL FREE TO DELETE THIS CELL.\n",
        "# NOTE: THIS NOTEBOOK ENVIRONMENT DIFFERS FROM KAGGLE'S PYTHON\n",
        "# ENVIRONMENT SO THERE MAY BE MISSING LIBRARIES USED BY YOUR\n",
        "# NOTEBOOK.\n",
        "import kagglehub\n",
        "prathamtripathi_drug_classification_path = kagglehub.dataset_download('prathamtripathi/drug-classification')\n",
        "\n",
        "print('Data source import complete.')\n"
      ],
      "metadata": {
        "colab": {
          "base_uri": "https://localhost:8080/"
        },
        "id": "moqh2YNNX_kN",
        "outputId": "2bb5b2c2-4ba2-4717-f29c-6ddd756a1398"
      },
      "cell_type": "code",
      "outputs": [
        {
          "output_type": "stream",
          "name": "stdout",
          "text": [
            "Data source import complete.\n"
          ]
        }
      ],
      "execution_count": 5
    },
    {
      "cell_type": "code",
      "source": [
        "# This Python 3 environment comes with many helpful analytics libraries installed\n",
        "# It is defined by the kaggle/python Docker image: https://github.com/kaggle/docker-python\n",
        "# For example, here's several helpful packages to load\n",
        "\n",
        "import numpy as np # linear algebra\n",
        "import pandas as pd # data processing, CSV file I/O (e.g. pd.read_csv)\n",
        "\n",
        "# Input data files are available in the read-only \"../input/\" directory\n",
        "# For example, running this (by clicking run or pressing Shift+Enter) will list all files under the input directory\n",
        "\n",
        "import os\n",
        "for dirname, _, filenames in os.walk('/kaggle/input'):\n",
        "    for filename in filenames:\n",
        "        print(os.path.join(dirname, filename))\n"
      ],
      "metadata": {
        "_uuid": "8f2839f25d086af736a60e9eeb907d3b93b6e0e5",
        "_cell_guid": "b1076dfc-b9ad-4769-8c92-a6c4dae69d19",
        "trusted": true,
        "execution": {
          "iopub.status.busy": "2025-08-25T11:59:39.802922Z",
          "iopub.execute_input": "2025-08-25T11:59:39.803227Z",
          "iopub.status.idle": "2025-08-25T11:59:39.810901Z",
          "shell.execute_reply.started": "2025-08-25T11:59:39.803204Z",
          "shell.execute_reply": "2025-08-25T11:59:39.810186Z"
        },
        "colab": {
          "base_uri": "https://localhost:8080/"
        },
        "id": "uZCruKgsX_kO",
        "outputId": "7e4bd72a-148e-4884-a553-0f3cc7c2bbfd"
      },
      "outputs": [
        {
          "output_type": "stream",
          "name": "stdout",
          "text": [
            "/kaggle/input/drug-classification/drug200.csv\n"
          ]
        }
      ],
      "execution_count": 6
    },
    {
      "cell_type": "code",
      "source": [
        "import pandas as pd\n",
        "import numpy as np\n",
        "import matplotlib.pyplot as plt\n",
        "import seaborn as sns\n",
        "\n",
        "from sklearn.model_selection import train_test_split\n",
        "from sklearn.preprocessing import StandardScaler\n",
        "from sklearn.linear_model import LogisticRegression\n",
        "from sklearn.metrics import accuracy_score, confusion_matrix, classification_report\n"
      ],
      "metadata": {
        "trusted": true,
        "execution": {
          "iopub.status.busy": "2025-08-25T12:01:33.717174Z",
          "iopub.execute_input": "2025-08-25T12:01:33.717505Z",
          "iopub.status.idle": "2025-08-25T12:01:33.722601Z",
          "shell.execute_reply.started": "2025-08-25T12:01:33.717473Z",
          "shell.execute_reply": "2025-08-25T12:01:33.721479Z"
        },
        "id": "DbUAS8X7X_kP"
      },
      "outputs": [],
      "execution_count": 7
    },
    {
      "cell_type": "code",
      "source": [
        "df = pd.read_csv(\"/kaggle/input/drug-classification/drug200.csv\")"
      ],
      "metadata": {
        "trusted": true,
        "execution": {
          "iopub.status.busy": "2025-08-25T11:59:39.812046Z",
          "iopub.execute_input": "2025-08-25T11:59:39.812302Z",
          "iopub.status.idle": "2025-08-25T11:59:39.830344Z",
          "shell.execute_reply.started": "2025-08-25T11:59:39.812278Z",
          "shell.execute_reply": "2025-08-25T11:59:39.829428Z"
        },
        "id": "O1Gamx5DX_kP"
      },
      "outputs": [],
      "execution_count": 8
    },
    {
      "cell_type": "code",
      "source": [
        "df.head()"
      ],
      "metadata": {
        "trusted": true,
        "execution": {
          "iopub.status.busy": "2025-08-25T12:00:17.875088Z",
          "iopub.execute_input": "2025-08-25T12:00:17.875377Z",
          "iopub.status.idle": "2025-08-25T12:00:17.901951Z",
          "shell.execute_reply.started": "2025-08-25T12:00:17.875354Z",
          "shell.execute_reply": "2025-08-25T12:00:17.901094Z"
        },
        "colab": {
          "base_uri": "https://localhost:8080/",
          "height": 206
        },
        "id": "roF0woV8X_kQ",
        "outputId": "f44a6552-c67e-4222-dbef-782abd94c4e5"
      },
      "outputs": [
        {
          "output_type": "execute_result",
          "data": {
            "text/plain": [
              "   Age Sex      BP Cholesterol  Na_to_K   Drug\n",
              "0   23   F    HIGH        HIGH   25.355  DrugY\n",
              "1   47   M     LOW        HIGH   13.093  drugC\n",
              "2   47   M     LOW        HIGH   10.114  drugC\n",
              "3   28   F  NORMAL        HIGH    7.798  drugX\n",
              "4   61   F     LOW        HIGH   18.043  DrugY"
            ],
            "text/html": [
              "\n",
              "  <div id=\"df-8e3c8326-8902-4f29-a37a-c75be3dd1795\" class=\"colab-df-container\">\n",
              "    <div>\n",
              "<style scoped>\n",
              "    .dataframe tbody tr th:only-of-type {\n",
              "        vertical-align: middle;\n",
              "    }\n",
              "\n",
              "    .dataframe tbody tr th {\n",
              "        vertical-align: top;\n",
              "    }\n",
              "\n",
              "    .dataframe thead th {\n",
              "        text-align: right;\n",
              "    }\n",
              "</style>\n",
              "<table border=\"1\" class=\"dataframe\">\n",
              "  <thead>\n",
              "    <tr style=\"text-align: right;\">\n",
              "      <th></th>\n",
              "      <th>Age</th>\n",
              "      <th>Sex</th>\n",
              "      <th>BP</th>\n",
              "      <th>Cholesterol</th>\n",
              "      <th>Na_to_K</th>\n",
              "      <th>Drug</th>\n",
              "    </tr>\n",
              "  </thead>\n",
              "  <tbody>\n",
              "    <tr>\n",
              "      <th>0</th>\n",
              "      <td>23</td>\n",
              "      <td>F</td>\n",
              "      <td>HIGH</td>\n",
              "      <td>HIGH</td>\n",
              "      <td>25.355</td>\n",
              "      <td>DrugY</td>\n",
              "    </tr>\n",
              "    <tr>\n",
              "      <th>1</th>\n",
              "      <td>47</td>\n",
              "      <td>M</td>\n",
              "      <td>LOW</td>\n",
              "      <td>HIGH</td>\n",
              "      <td>13.093</td>\n",
              "      <td>drugC</td>\n",
              "    </tr>\n",
              "    <tr>\n",
              "      <th>2</th>\n",
              "      <td>47</td>\n",
              "      <td>M</td>\n",
              "      <td>LOW</td>\n",
              "      <td>HIGH</td>\n",
              "      <td>10.114</td>\n",
              "      <td>drugC</td>\n",
              "    </tr>\n",
              "    <tr>\n",
              "      <th>3</th>\n",
              "      <td>28</td>\n",
              "      <td>F</td>\n",
              "      <td>NORMAL</td>\n",
              "      <td>HIGH</td>\n",
              "      <td>7.798</td>\n",
              "      <td>drugX</td>\n",
              "    </tr>\n",
              "    <tr>\n",
              "      <th>4</th>\n",
              "      <td>61</td>\n",
              "      <td>F</td>\n",
              "      <td>LOW</td>\n",
              "      <td>HIGH</td>\n",
              "      <td>18.043</td>\n",
              "      <td>DrugY</td>\n",
              "    </tr>\n",
              "  </tbody>\n",
              "</table>\n",
              "</div>\n",
              "    <div class=\"colab-df-buttons\">\n",
              "\n",
              "  <div class=\"colab-df-container\">\n",
              "    <button class=\"colab-df-convert\" onclick=\"convertToInteractive('df-8e3c8326-8902-4f29-a37a-c75be3dd1795')\"\n",
              "            title=\"Convert this dataframe to an interactive table.\"\n",
              "            style=\"display:none;\">\n",
              "\n",
              "  <svg xmlns=\"http://www.w3.org/2000/svg\" height=\"24px\" viewBox=\"0 -960 960 960\">\n",
              "    <path d=\"M120-120v-720h720v720H120Zm60-500h600v-160H180v160Zm220 220h160v-160H400v160Zm0 220h160v-160H400v160ZM180-400h160v-160H180v160Zm440 0h160v-160H620v160ZM180-180h160v-160H180v160Zm440 0h160v-160H620v160Z\"/>\n",
              "  </svg>\n",
              "    </button>\n",
              "\n",
              "  <style>\n",
              "    .colab-df-container {\n",
              "      display:flex;\n",
              "      gap: 12px;\n",
              "    }\n",
              "\n",
              "    .colab-df-convert {\n",
              "      background-color: #E8F0FE;\n",
              "      border: none;\n",
              "      border-radius: 50%;\n",
              "      cursor: pointer;\n",
              "      display: none;\n",
              "      fill: #1967D2;\n",
              "      height: 32px;\n",
              "      padding: 0 0 0 0;\n",
              "      width: 32px;\n",
              "    }\n",
              "\n",
              "    .colab-df-convert:hover {\n",
              "      background-color: #E2EBFA;\n",
              "      box-shadow: 0px 1px 2px rgba(60, 64, 67, 0.3), 0px 1px 3px 1px rgba(60, 64, 67, 0.15);\n",
              "      fill: #174EA6;\n",
              "    }\n",
              "\n",
              "    .colab-df-buttons div {\n",
              "      margin-bottom: 4px;\n",
              "    }\n",
              "\n",
              "    [theme=dark] .colab-df-convert {\n",
              "      background-color: #3B4455;\n",
              "      fill: #D2E3FC;\n",
              "    }\n",
              "\n",
              "    [theme=dark] .colab-df-convert:hover {\n",
              "      background-color: #434B5C;\n",
              "      box-shadow: 0px 1px 3px 1px rgba(0, 0, 0, 0.15);\n",
              "      filter: drop-shadow(0px 1px 2px rgba(0, 0, 0, 0.3));\n",
              "      fill: #FFFFFF;\n",
              "    }\n",
              "  </style>\n",
              "\n",
              "    <script>\n",
              "      const buttonEl =\n",
              "        document.querySelector('#df-8e3c8326-8902-4f29-a37a-c75be3dd1795 button.colab-df-convert');\n",
              "      buttonEl.style.display =\n",
              "        google.colab.kernel.accessAllowed ? 'block' : 'none';\n",
              "\n",
              "      async function convertToInteractive(key) {\n",
              "        const element = document.querySelector('#df-8e3c8326-8902-4f29-a37a-c75be3dd1795');\n",
              "        const dataTable =\n",
              "          await google.colab.kernel.invokeFunction('convertToInteractive',\n",
              "                                                    [key], {});\n",
              "        if (!dataTable) return;\n",
              "\n",
              "        const docLinkHtml = 'Like what you see? Visit the ' +\n",
              "          '<a target=\"_blank\" href=https://colab.research.google.com/notebooks/data_table.ipynb>data table notebook</a>'\n",
              "          + ' to learn more about interactive tables.';\n",
              "        element.innerHTML = '';\n",
              "        dataTable['output_type'] = 'display_data';\n",
              "        await google.colab.output.renderOutput(dataTable, element);\n",
              "        const docLink = document.createElement('div');\n",
              "        docLink.innerHTML = docLinkHtml;\n",
              "        element.appendChild(docLink);\n",
              "      }\n",
              "    </script>\n",
              "  </div>\n",
              "\n",
              "\n",
              "    <div id=\"df-6813e10b-e83b-4396-96dc-53b715d458bf\">\n",
              "      <button class=\"colab-df-quickchart\" onclick=\"quickchart('df-6813e10b-e83b-4396-96dc-53b715d458bf')\"\n",
              "                title=\"Suggest charts\"\n",
              "                style=\"display:none;\">\n",
              "\n",
              "<svg xmlns=\"http://www.w3.org/2000/svg\" height=\"24px\"viewBox=\"0 0 24 24\"\n",
              "     width=\"24px\">\n",
              "    <g>\n",
              "        <path d=\"M19 3H5c-1.1 0-2 .9-2 2v14c0 1.1.9 2 2 2h14c1.1 0 2-.9 2-2V5c0-1.1-.9-2-2-2zM9 17H7v-7h2v7zm4 0h-2V7h2v10zm4 0h-2v-4h2v4z\"/>\n",
              "    </g>\n",
              "</svg>\n",
              "      </button>\n",
              "\n",
              "<style>\n",
              "  .colab-df-quickchart {\n",
              "      --bg-color: #E8F0FE;\n",
              "      --fill-color: #1967D2;\n",
              "      --hover-bg-color: #E2EBFA;\n",
              "      --hover-fill-color: #174EA6;\n",
              "      --disabled-fill-color: #AAA;\n",
              "      --disabled-bg-color: #DDD;\n",
              "  }\n",
              "\n",
              "  [theme=dark] .colab-df-quickchart {\n",
              "      --bg-color: #3B4455;\n",
              "      --fill-color: #D2E3FC;\n",
              "      --hover-bg-color: #434B5C;\n",
              "      --hover-fill-color: #FFFFFF;\n",
              "      --disabled-bg-color: #3B4455;\n",
              "      --disabled-fill-color: #666;\n",
              "  }\n",
              "\n",
              "  .colab-df-quickchart {\n",
              "    background-color: var(--bg-color);\n",
              "    border: none;\n",
              "    border-radius: 50%;\n",
              "    cursor: pointer;\n",
              "    display: none;\n",
              "    fill: var(--fill-color);\n",
              "    height: 32px;\n",
              "    padding: 0;\n",
              "    width: 32px;\n",
              "  }\n",
              "\n",
              "  .colab-df-quickchart:hover {\n",
              "    background-color: var(--hover-bg-color);\n",
              "    box-shadow: 0 1px 2px rgba(60, 64, 67, 0.3), 0 1px 3px 1px rgba(60, 64, 67, 0.15);\n",
              "    fill: var(--button-hover-fill-color);\n",
              "  }\n",
              "\n",
              "  .colab-df-quickchart-complete:disabled,\n",
              "  .colab-df-quickchart-complete:disabled:hover {\n",
              "    background-color: var(--disabled-bg-color);\n",
              "    fill: var(--disabled-fill-color);\n",
              "    box-shadow: none;\n",
              "  }\n",
              "\n",
              "  .colab-df-spinner {\n",
              "    border: 2px solid var(--fill-color);\n",
              "    border-color: transparent;\n",
              "    border-bottom-color: var(--fill-color);\n",
              "    animation:\n",
              "      spin 1s steps(1) infinite;\n",
              "  }\n",
              "\n",
              "  @keyframes spin {\n",
              "    0% {\n",
              "      border-color: transparent;\n",
              "      border-bottom-color: var(--fill-color);\n",
              "      border-left-color: var(--fill-color);\n",
              "    }\n",
              "    20% {\n",
              "      border-color: transparent;\n",
              "      border-left-color: var(--fill-color);\n",
              "      border-top-color: var(--fill-color);\n",
              "    }\n",
              "    30% {\n",
              "      border-color: transparent;\n",
              "      border-left-color: var(--fill-color);\n",
              "      border-top-color: var(--fill-color);\n",
              "      border-right-color: var(--fill-color);\n",
              "    }\n",
              "    40% {\n",
              "      border-color: transparent;\n",
              "      border-right-color: var(--fill-color);\n",
              "      border-top-color: var(--fill-color);\n",
              "    }\n",
              "    60% {\n",
              "      border-color: transparent;\n",
              "      border-right-color: var(--fill-color);\n",
              "    }\n",
              "    80% {\n",
              "      border-color: transparent;\n",
              "      border-right-color: var(--fill-color);\n",
              "      border-bottom-color: var(--fill-color);\n",
              "    }\n",
              "    90% {\n",
              "      border-color: transparent;\n",
              "      border-bottom-color: var(--fill-color);\n",
              "    }\n",
              "  }\n",
              "</style>\n",
              "\n",
              "      <script>\n",
              "        async function quickchart(key) {\n",
              "          const quickchartButtonEl =\n",
              "            document.querySelector('#' + key + ' button');\n",
              "          quickchartButtonEl.disabled = true;  // To prevent multiple clicks.\n",
              "          quickchartButtonEl.classList.add('colab-df-spinner');\n",
              "          try {\n",
              "            const charts = await google.colab.kernel.invokeFunction(\n",
              "                'suggestCharts', [key], {});\n",
              "          } catch (error) {\n",
              "            console.error('Error during call to suggestCharts:', error);\n",
              "          }\n",
              "          quickchartButtonEl.classList.remove('colab-df-spinner');\n",
              "          quickchartButtonEl.classList.add('colab-df-quickchart-complete');\n",
              "        }\n",
              "        (() => {\n",
              "          let quickchartButtonEl =\n",
              "            document.querySelector('#df-6813e10b-e83b-4396-96dc-53b715d458bf button');\n",
              "          quickchartButtonEl.style.display =\n",
              "            google.colab.kernel.accessAllowed ? 'block' : 'none';\n",
              "        })();\n",
              "      </script>\n",
              "    </div>\n",
              "\n",
              "    </div>\n",
              "  </div>\n"
            ],
            "application/vnd.google.colaboratory.intrinsic+json": {
              "type": "dataframe",
              "variable_name": "df",
              "summary": "{\n  \"name\": \"df\",\n  \"rows\": 200,\n  \"fields\": [\n    {\n      \"column\": \"Age\",\n      \"properties\": {\n        \"dtype\": \"number\",\n        \"std\": 16,\n        \"min\": 15,\n        \"max\": 74,\n        \"num_unique_values\": 57,\n        \"samples\": [\n          23,\n          49,\n          37\n        ],\n        \"semantic_type\": \"\",\n        \"description\": \"\"\n      }\n    },\n    {\n      \"column\": \"Sex\",\n      \"properties\": {\n        \"dtype\": \"category\",\n        \"num_unique_values\": 2,\n        \"samples\": [\n          \"M\",\n          \"F\"\n        ],\n        \"semantic_type\": \"\",\n        \"description\": \"\"\n      }\n    },\n    {\n      \"column\": \"BP\",\n      \"properties\": {\n        \"dtype\": \"category\",\n        \"num_unique_values\": 3,\n        \"samples\": [\n          \"HIGH\",\n          \"LOW\"\n        ],\n        \"semantic_type\": \"\",\n        \"description\": \"\"\n      }\n    },\n    {\n      \"column\": \"Cholesterol\",\n      \"properties\": {\n        \"dtype\": \"category\",\n        \"num_unique_values\": 2,\n        \"samples\": [\n          \"NORMAL\",\n          \"HIGH\"\n        ],\n        \"semantic_type\": \"\",\n        \"description\": \"\"\n      }\n    },\n    {\n      \"column\": \"Na_to_K\",\n      \"properties\": {\n        \"dtype\": \"number\",\n        \"std\": 7.223955528459517,\n        \"min\": 6.269,\n        \"max\": 38.247,\n        \"num_unique_values\": 198,\n        \"samples\": [\n          27.05,\n          9.281\n        ],\n        \"semantic_type\": \"\",\n        \"description\": \"\"\n      }\n    },\n    {\n      \"column\": \"Drug\",\n      \"properties\": {\n        \"dtype\": \"category\",\n        \"num_unique_values\": 5,\n        \"samples\": [\n          \"drugC\",\n          \"drugB\"\n        ],\n        \"semantic_type\": \"\",\n        \"description\": \"\"\n      }\n    }\n  ]\n}"
            }
          },
          "metadata": {},
          "execution_count": 9
        }
      ],
      "execution_count": 9
    },
    {
      "cell_type": "code",
      "source": [
        "print(df.info())"
      ],
      "metadata": {
        "trusted": true,
        "execution": {
          "iopub.status.busy": "2025-08-25T12:02:03.372268Z",
          "iopub.execute_input": "2025-08-25T12:02:03.372609Z",
          "iopub.status.idle": "2025-08-25T12:02:03.396548Z",
          "shell.execute_reply.started": "2025-08-25T12:02:03.372584Z",
          "shell.execute_reply": "2025-08-25T12:02:03.395665Z"
        },
        "colab": {
          "base_uri": "https://localhost:8080/"
        },
        "id": "ak1OdQ6YX_kQ",
        "outputId": "3c4c6fcc-7e5c-4228-ccc3-93b0f3960470"
      },
      "outputs": [
        {
          "output_type": "stream",
          "name": "stdout",
          "text": [
            "<class 'pandas.core.frame.DataFrame'>\n",
            "RangeIndex: 200 entries, 0 to 199\n",
            "Data columns (total 6 columns):\n",
            " #   Column       Non-Null Count  Dtype  \n",
            "---  ------       --------------  -----  \n",
            " 0   Age          200 non-null    int64  \n",
            " 1   Sex          200 non-null    object \n",
            " 2   BP           200 non-null    object \n",
            " 3   Cholesterol  200 non-null    object \n",
            " 4   Na_to_K      200 non-null    float64\n",
            " 5   Drug         200 non-null    object \n",
            "dtypes: float64(1), int64(1), object(4)\n",
            "memory usage: 9.5+ KB\n",
            "None\n"
          ]
        }
      ],
      "execution_count": 10
    },
    {
      "cell_type": "code",
      "source": [
        "print(\"\\nDescriptive Statistics:\\n\", df.describe())"
      ],
      "metadata": {
        "trusted": true,
        "execution": {
          "iopub.status.busy": "2025-08-25T12:03:43.643946Z",
          "iopub.execute_input": "2025-08-25T12:03:43.644249Z",
          "iopub.status.idle": "2025-08-25T12:03:43.656501Z",
          "shell.execute_reply.started": "2025-08-25T12:03:43.644226Z",
          "shell.execute_reply": "2025-08-25T12:03:43.655602Z"
        },
        "colab": {
          "base_uri": "https://localhost:8080/"
        },
        "id": "1zd5oO3eX_kR",
        "outputId": "6da26ae0-6031-4601-a84c-b9654ea65c97"
      },
      "outputs": [
        {
          "output_type": "stream",
          "name": "stdout",
          "text": [
            "\n",
            "Descriptive Statistics:\n",
            "               Age     Na_to_K\n",
            "count  200.000000  200.000000\n",
            "mean    44.315000   16.084485\n",
            "std     16.544315    7.223956\n",
            "min     15.000000    6.269000\n",
            "25%     31.000000   10.445500\n",
            "50%     45.000000   13.936500\n",
            "75%     58.000000   19.380000\n",
            "max     74.000000   38.247000\n"
          ]
        }
      ],
      "execution_count": 11
    },
    {
      "cell_type": "code",
      "source": [
        "print(\"\\nMissing values:\\n\", df.isna().sum())"
      ],
      "metadata": {
        "trusted": true,
        "execution": {
          "iopub.status.busy": "2025-08-25T12:04:11.024622Z",
          "iopub.execute_input": "2025-08-25T12:04:11.024923Z",
          "iopub.status.idle": "2025-08-25T12:04:11.030925Z",
          "shell.execute_reply.started": "2025-08-25T12:04:11.024901Z",
          "shell.execute_reply": "2025-08-25T12:04:11.029979Z"
        },
        "colab": {
          "base_uri": "https://localhost:8080/"
        },
        "id": "MV4k2uh7X_kR",
        "outputId": "fb28a133-371e-4a2d-d7f7-f913873e4200"
      },
      "outputs": [
        {
          "output_type": "stream",
          "name": "stdout",
          "text": [
            "\n",
            "Missing values:\n",
            " Age            0\n",
            "Sex            0\n",
            "BP             0\n",
            "Cholesterol    0\n",
            "Na_to_K        0\n",
            "Drug           0\n",
            "dtype: int64\n"
          ]
        }
      ],
      "execution_count": 12
    },
    {
      "cell_type": "code",
      "source": [
        "sns.heatmap(df.isna(), cbar=False, cmap=\"viridis\")\n",
        "plt.title(\"Missing Values\")\n",
        "plt.show()\n"
      ],
      "metadata": {
        "trusted": true,
        "execution": {
          "iopub.status.busy": "2025-08-25T12:04:42.732253Z",
          "iopub.execute_input": "2025-08-25T12:04:42.732579Z",
          "iopub.status.idle": "2025-08-25T12:04:43.113587Z",
          "shell.execute_reply.started": "2025-08-25T12:04:42.732554Z",
          "shell.execute_reply": "2025-08-25T12:04:43.112438Z"
        },
        "colab": {
          "base_uri": "https://localhost:8080/",
          "height": 452
        },
        "id": "3AG3COCSX_kS",
        "outputId": "d2f35331-a978-45c1-ff2f-63fa62a30ebe"
      },
      "outputs": [
        {
          "output_type": "display_data",
          "data": {
            "text/plain": [
              "<Figure size 640x480 with 1 Axes>"
            ],
            "image/png": "[encoded data removed]"
          },
          "metadata": {}
        }
      ],
      "execution_count": 13
    },
    {
      "cell_type": "code",
      "source": [
        "\n",
        "for col in df.select_dtypes(include=['number']).columns:\n",
        "    df[col] = df[col].fillna(df[col].mean())\n",
        "\n",
        "for col in df.select_dtypes(include=['object']).columns:\n",
        "    df[col] = df[col].fillna(df[col].mode()[0])\n",
        "\n",
        "print(\"Missing values after filling:\\n\", df.isna().sum())\n"
      ],
      "metadata": {
        "trusted": true,
        "execution": {
          "iopub.status.busy": "2025-08-25T12:07:58.684062Z",
          "iopub.execute_input": "2025-08-25T12:07:58.684373Z",
          "iopub.status.idle": "2025-08-25T12:07:58.696027Z",
          "shell.execute_reply.started": "2025-08-25T12:07:58.684351Z",
          "shell.execute_reply": "2025-08-25T12:07:58.695214Z"
        },
        "colab": {
          "base_uri": "https://localhost:8080/"
        },
        "id": "i3-Bgc6cX_kS",
        "outputId": "6e3e4cc3-49cf-4f85-c7b7-a0cbd08273c5"
      },
      "outputs": [
        {
          "output_type": "stream",
          "name": "stdout",
          "text": [
            "Missing values after filling:\n",
            " Age            0\n",
            "Sex            0\n",
            "BP             0\n",
            "Cholesterol    0\n",
            "Na_to_K        0\n",
            "Drug           0\n",
            "dtype: int64\n"
          ]
        }
      ],
      "execution_count": 14
    },
    {
      "cell_type": "code",
      "source": [
        "\n",
        "df = pd.get_dummies(df, drop_first=True)\n",
        "\n",
        "print(\"Data after One-Hot Encoding:\")\n",
        "print(df.head())\n"
      ],
      "metadata": {
        "trusted": true,
        "execution": {
          "iopub.status.busy": "2025-08-25T12:08:49.810688Z",
          "iopub.execute_input": "2025-08-25T12:08:49.81101Z",
          "iopub.status.idle": "2025-08-25T12:08:49.824666Z",
          "shell.execute_reply.started": "2025-08-25T12:08:49.810976Z",
          "shell.execute_reply": "2025-08-25T12:08:49.82376Z"
        },
        "colab": {
          "base_uri": "https://localhost:8080/"
        },
        "id": "KkSoiXfUX_kT",
        "outputId": "514b55f4-ab3e-487a-83f0-ccdb2b5f5ba8"
      },
      "outputs": [
        {
          "output_type": "stream",
          "name": "stdout",
          "text": [
            "Data after One-Hot Encoding:\n",
            "   Age  Na_to_K  Sex_M  BP_LOW  BP_NORMAL  Cholesterol_NORMAL  Drug_drugA  \\\n",
            "0   23   25.355  False   False      False               False       False   \n",
            "1   47   13.093   True    True      False               False       False   \n",
            "2   47   10.114   True    True      False               False       False   \n",
            "3   28    7.798  False   False       True               False       False   \n",
            "4   61   18.043  False    True      False               False       False   \n",
            "\n",
            "   Drug_drugB  Drug_drugC  Drug_drugX  \n",
            "0       False       False       False  \n",
            "1       False        True       False  \n",
            "2       False        True       False  \n",
            "3       False       False        True  \n",
            "4       False       False       False  \n"
          ]
        }
      ],
      "execution_count": 15
    },
    {
      "cell_type": "code",
      "source": [
        "\n",
        "df_encoded = pd.get_dummies(df, drop_first=True)\n",
        "\n",
        "print(\"Data after One-Hot Encoding:\\n\", df_encoded.head())\n"
      ],
      "metadata": {
        "trusted": true,
        "execution": {
          "iopub.status.busy": "2025-08-25T12:10:40.779053Z",
          "iopub.execute_input": "2025-08-25T12:10:40.779405Z",
          "iopub.status.idle": "2025-08-25T12:10:40.790229Z",
          "shell.execute_reply.started": "2025-08-25T12:10:40.77938Z",
          "shell.execute_reply": "2025-08-25T12:10:40.789373Z"
        },
        "colab": {
          "base_uri": "https://localhost:8080/"
        },
        "id": "rWSGhquXX_kT",
        "outputId": "b799b82f-83fd-4866-d127-80d63cb3d494"
      },
      "outputs": [
        {
          "output_type": "stream",
          "name": "stdout",
          "text": [
            "Data after One-Hot Encoding:\n",
            "    Age  Na_to_K  Sex_M  BP_LOW  BP_NORMAL  Cholesterol_NORMAL  Drug_drugA  \\\n",
            "0   23   25.355  False   False      False               False       False   \n",
            "1   47   13.093   True    True      False               False       False   \n",
            "2   47   10.114   True    True      False               False       False   \n",
            "3   28    7.798  False   False       True               False       False   \n",
            "4   61   18.043  False    True      False               False       False   \n",
            "\n",
            "   Drug_drugB  Drug_drugC  Drug_drugX  \n",
            "0       False       False       False  \n",
            "1       False        True       False  \n",
            "2       False        True       False  \n",
            "3       False       False        True  \n",
            "4       False       False       False  \n"
          ]
        }
      ],
      "execution_count": 16
    },
    {
      "cell_type": "code",
      "source": [
        "\n",
        "df_encoded = pd.get_dummies(df, drop_first=True)\n",
        "\n",
        "df_encoded = df_encoded.astype(int)\n",
        "\n",
        "print(\"Data after One-Hot Encoding:\\n\", df_encoded.head())\n"
      ],
      "metadata": {
        "trusted": true,
        "execution": {
          "iopub.status.busy": "2025-08-25T12:11:44.180786Z",
          "iopub.execute_input": "2025-08-25T12:11:44.181085Z",
          "iopub.status.idle": "2025-08-25T12:11:44.191182Z",
          "shell.execute_reply.started": "2025-08-25T12:11:44.181066Z",
          "shell.execute_reply": "2025-08-25T12:11:44.190253Z"
        },
        "colab": {
          "base_uri": "https://localhost:8080/"
        },
        "id": "0K4fTJSHX_kU",
        "outputId": "96a37c6f-5ac6-47d1-8762-ef784e46f29e"
      },
      "outputs": [
        {
          "output_type": "stream",
          "name": "stdout",
          "text": [
            "Data after One-Hot Encoding:\n",
            "    Age  Na_to_K  Sex_M  BP_LOW  BP_NORMAL  Cholesterol_NORMAL  Drug_drugA  \\\n",
            "0   23       25      0       0          0                   0           0   \n",
            "1   47       13      1       1          0                   0           0   \n",
            "2   47       10      1       1          0                   0           0   \n",
            "3   28        7      0       0          1                   0           0   \n",
            "4   61       18      0       1          0                   0           0   \n",
            "\n",
            "   Drug_drugB  Drug_drugC  Drug_drugX  \n",
            "0           0           0           0  \n",
            "1           0           1           0  \n",
            "2           0           1           0  \n",
            "3           0           0           1  \n",
            "4           0           0           0  \n"
          ]
        }
      ],
      "execution_count": 17
    },
    {
      "cell_type": "code",
      "source": [
        "print(df_encoded.info())\n",
        "\n"
      ],
      "metadata": {
        "trusted": true,
        "execution": {
          "iopub.status.busy": "2025-08-25T12:12:54.60191Z",
          "iopub.execute_input": "2025-08-25T12:12:54.602226Z",
          "iopub.status.idle": "2025-08-25T12:12:54.611115Z",
          "shell.execute_reply.started": "2025-08-25T12:12:54.602198Z",
          "shell.execute_reply": "2025-08-25T12:12:54.610037Z"
        },
        "colab": {
          "base_uri": "https://localhost:8080/"
        },
        "id": "wEn--dDuX_kV",
        "outputId": "37d8fa43-724a-45ed-fc6b-5938556cecd5"
      },
      "outputs": [
        {
          "output_type": "stream",
          "name": "stdout",
          "text": [
            "<class 'pandas.core.frame.DataFrame'>\n",
            "RangeIndex: 200 entries, 0 to 199\n",
            "Data columns (total 10 columns):\n",
            " #   Column              Non-Null Count  Dtype\n",
            "---  ------              --------------  -----\n",
            " 0   Age                 200 non-null    int64\n",
            " 1   Na_to_K             200 non-null    int64\n",
            " 2   Sex_M               200 non-null    int64\n",
            " 3   BP_LOW              200 non-null    int64\n",
            " 4   BP_NORMAL           200 non-null    int64\n",
            " 5   Cholesterol_NORMAL  200 non-null    int64\n",
            " 6   Drug_drugA          200 non-null    int64\n",
            " 7   Drug_drugB          200 non-null    int64\n",
            " 8   Drug_drugC          200 non-null    int64\n",
            " 9   Drug_drugX          200 non-null    int64\n",
            "dtypes: int64(10)\n",
            "memory usage: 15.8 KB\n",
            "None\n"
          ]
        }
      ],
      "execution_count": 18
    },
    {
      "cell_type": "code",
      "source": [
        "print(df_encoded.describe())"
      ],
      "metadata": {
        "trusted": true,
        "execution": {
          "iopub.status.busy": "2025-08-25T12:13:01.356699Z",
          "iopub.execute_input": "2025-08-25T12:13:01.356986Z",
          "iopub.status.idle": "2025-08-25T12:13:01.385626Z",
          "shell.execute_reply.started": "2025-08-25T12:13:01.356963Z",
          "shell.execute_reply": "2025-08-25T12:13:01.384742Z"
        },
        "colab": {
          "base_uri": "https://localhost:8080/"
        },
        "id": "9l7na5UyX_kV",
        "outputId": "6afe265a-4736-40f7-e8cd-e9632a2a5802"
      },
      "outputs": [
        {
          "output_type": "stream",
          "name": "stdout",
          "text": [
            "              Age    Na_to_K       Sex_M      BP_LOW   BP_NORMAL  \\\n",
            "count  200.000000  200.00000  200.000000  200.000000  200.000000   \n",
            "mean    44.315000   15.58500    0.520000    0.320000    0.295000   \n",
            "std     16.544315    7.19944    0.500854    0.467647    0.457187   \n",
            "min     15.000000    6.00000    0.000000    0.000000    0.000000   \n",
            "25%     31.000000   10.00000    0.000000    0.000000    0.000000   \n",
            "50%     45.000000   13.00000    1.000000    0.000000    0.000000   \n",
            "75%     58.000000   19.00000    1.000000    1.000000    1.000000   \n",
            "max     74.000000   38.00000    1.000000    1.000000    1.000000   \n",
            "\n",
            "       Cholesterol_NORMAL  Drug_drugA  Drug_drugB  Drug_drugC  Drug_drugX  \n",
            "count          200.000000  200.000000  200.000000  200.000000  200.000000  \n",
            "mean             0.485000    0.115000    0.080000    0.080000    0.270000  \n",
            "std              0.501029    0.319823    0.271974    0.271974    0.445074  \n",
            "min              0.000000    0.000000    0.000000    0.000000    0.000000  \n",
            "25%              0.000000    0.000000    0.000000    0.000000    0.000000  \n",
            "50%              0.000000    0.000000    0.000000    0.000000    0.000000  \n",
            "75%              1.000000    0.000000    0.000000    0.000000    1.000000  \n",
            "max              1.000000    1.000000    1.000000    1.000000    1.000000  \n"
          ]
        }
      ],
      "execution_count": 19
    },
    {
      "cell_type": "code",
      "source": [
        "print(df_encoded.isnull().sum())\n"
      ],
      "metadata": {
        "trusted": true,
        "execution": {
          "iopub.status.busy": "2025-08-25T12:13:20.994904Z",
          "iopub.execute_input": "2025-08-25T12:13:20.995223Z",
          "iopub.status.idle": "2025-08-25T12:13:21.00098Z",
          "shell.execute_reply.started": "2025-08-25T12:13:20.9952Z",
          "shell.execute_reply": "2025-08-25T12:13:21.000167Z"
        },
        "colab": {
          "base_uri": "https://localhost:8080/"
        },
        "id": "Vnqi7_SzX_kW",
        "outputId": "42e97e6a-33bc-40f3-c874-a9580fadf78e"
      },
      "outputs": [
        {
          "output_type": "stream",
          "name": "stdout",
          "text": [
            "Age                   0\n",
            "Na_to_K               0\n",
            "Sex_M                 0\n",
            "BP_LOW                0\n",
            "BP_NORMAL             0\n",
            "Cholesterol_NORMAL    0\n",
            "Drug_drugA            0\n",
            "Drug_drugB            0\n",
            "Drug_drugC            0\n",
            "Drug_drugX            0\n",
            "dtype: int64\n"
          ]
        }
      ],
      "execution_count": 20
    },
    {
      "cell_type": "code",
      "source": [
        "X = df_encoded.drop(['Drug_drugA','Drug_drugB','Drug_drugC','Drug_drugX'], axis=1)\n",
        "y = df_encoded[['Drug_drugA','Drug_drugB','Drug_drugC','Drug_drugX']]\n"
      ],
      "metadata": {
        "trusted": true,
        "execution": {
          "iopub.status.busy": "2025-08-25T12:13:51.113589Z",
          "iopub.execute_input": "2025-08-25T12:13:51.113885Z",
          "iopub.status.idle": "2025-08-25T12:13:51.120097Z",
          "shell.execute_reply.started": "2025-08-25T12:13:51.113863Z",
          "shell.execute_reply": "2025-08-25T12:13:51.119092Z"
        },
        "id": "JuDNiBZFX_kW"
      },
      "outputs": [],
      "execution_count": 21
    },
    {
      "cell_type": "code",
      "source": [
        "print(df.columns)\n"
      ],
      "metadata": {
        "trusted": true,
        "execution": {
          "iopub.status.busy": "2025-08-25T12:18:58.741011Z",
          "iopub.execute_input": "2025-08-25T12:18:58.741587Z",
          "iopub.status.idle": "2025-08-25T12:18:58.74559Z",
          "shell.execute_reply.started": "2025-08-25T12:18:58.741562Z",
          "shell.execute_reply": "2025-08-25T12:18:58.744611Z"
        },
        "colab": {
          "base_uri": "https://localhost:8080/"
        },
        "id": "tkZnsGutX_kW",
        "outputId": "f7fbb85b-91bb-472b-a55d-e5149c5ec481"
      },
      "outputs": [
        {
          "output_type": "stream",
          "name": "stdout",
          "text": [
            "Index(['Age', 'Na_to_K', 'Sex_M', 'BP_LOW', 'BP_NORMAL', 'Cholesterol_NORMAL',\n",
            "       'Drug_drugA', 'Drug_drugB', 'Drug_drugC', 'Drug_drugX'],\n",
            "      dtype='object')\n"
          ]
        }
      ],
      "execution_count": 22
    },
    {
      "cell_type": "code",
      "source": [
        "\n",
        "df['Drug'] = df[['Drug_drugA','Drug_drugB','Drug_drugC','Drug_drugX']].idxmax(axis=1)\n",
        "\n",
        "from sklearn.preprocessing import LabelEncoder\n",
        "\n",
        "y = LabelEncoder().fit_transform(df['Drug'])\n",
        "\n",
        "X = df.drop(['Drug','Drug_drugA','Drug_drugB','Drug_drugC','Drug_drugX'], axis=1)\n"
      ],
      "metadata": {
        "trusted": true,
        "execution": {
          "iopub.status.busy": "2025-08-25T12:20:07.950019Z",
          "iopub.execute_input": "2025-08-25T12:20:07.950293Z",
          "iopub.status.idle": "2025-08-25T12:20:07.958612Z",
          "shell.execute_reply.started": "2025-08-25T12:20:07.950273Z",
          "shell.execute_reply": "2025-08-25T12:20:07.957593Z"
        },
        "id": "zlvdkMjkX_kX"
      },
      "outputs": [],
      "execution_count": 23
    },
    {
      "cell_type": "code",
      "source": [
        "from sklearn.model_selection import train_test_split\n",
        "from sklearn.linear_model import LogisticRegression\n",
        "\n",
        "X_train, X_test, y_train, y_test = train_test_split(X, y, test_size=0.2, random_state=42)\n",
        "\n",
        "model = LogisticRegression(max_iter=1000)\n",
        "model.fit(X_train, y_train)\n",
        "\n",
        "y_pred = model.predict(X_test)\n",
        "print(\"Training Done ✅\")\n"
      ],
      "metadata": {
        "trusted": true,
        "execution": {
          "iopub.status.busy": "2025-08-25T12:20:19.098714Z",
          "iopub.execute_input": "2025-08-25T12:20:19.099009Z",
          "iopub.status.idle": "2025-08-25T12:20:19.342104Z",
          "shell.execute_reply.started": "2025-08-25T12:20:19.098986Z",
          "shell.execute_reply": "2025-08-25T12:20:19.341356Z"
        },
        "colab": {
          "base_uri": "https://localhost:8080/"
        },
        "id": "QDroWQLeX_kX",
        "outputId": "cdfb72d2-a38c-40f4-ab6b-b38348c4eef3"
      },
      "outputs": [
        {
          "output_type": "stream",
          "name": "stdout",
          "text": [
            "Training Done ✅\n"
          ]
        }
      ],
      "execution_count": 24
    },
    {
      "cell_type": "code",
      "source": [
        "# Target = Drug\n",
        "X = df.drop(\"Drug\", axis=1)\n",
        "y = df[\"Drug\"]\n",
        "\n",
        "print(\"Shape of X:\", X.shape)\n",
        "print(\"Shape of y:\", y.shape)\n"
      ],
      "metadata": {
        "trusted": true,
        "execution": {
          "iopub.status.busy": "2025-08-25T12:21:18.953841Z",
          "iopub.execute_input": "2025-08-25T12:21:18.954149Z",
          "iopub.status.idle": "2025-08-25T12:21:18.960424Z",
          "shell.execute_reply.started": "2025-08-25T12:21:18.954128Z",
          "shell.execute_reply": "2025-08-25T12:21:18.959466Z"
        },
        "colab": {
          "base_uri": "https://localhost:8080/"
        },
        "id": "N7UveExIX_kY",
        "outputId": "5e606da9-c446-4e9d-a096-258736e2bce3"
      },
      "outputs": [
        {
          "output_type": "stream",
          "name": "stdout",
          "text": [
            "Shape of X: (200, 10)\n",
            "Shape of y: (200,)\n"
          ]
        }
      ],
      "execution_count": 25
    },
    {
      "cell_type": "code",
      "source": [
        "X_train, X_test, y_train, y_test = train_test_split(\n",
        "    X, y, test_size=0.2, random_state=42, stratify=y\n",
        ")\n",
        "print(\"Train size:\", X_train.shape)\n",
        "print(\"Test size:\", X_test.shape)\n"
      ],
      "metadata": {
        "trusted": true,
        "execution": {
          "iopub.status.busy": "2025-08-25T12:21:35.314209Z",
          "iopub.execute_input": "2025-08-25T12:21:35.314521Z",
          "iopub.status.idle": "2025-08-25T12:21:35.324139Z",
          "shell.execute_reply.started": "2025-08-25T12:21:35.314497Z",
          "shell.execute_reply": "2025-08-25T12:21:35.323166Z"
        },
        "colab": {
          "base_uri": "https://localhost:8080/"
        },
        "id": "CzRR_QoIX_kY",
        "outputId": "c1f975b5-edfc-431f-e5a3-f1c095e366e1"
      },
      "outputs": [
        {
          "output_type": "stream",
          "name": "stdout",
          "text": [
            "Train size: (160, 10)\n",
            "Test size: (40, 10)\n"
          ]
        }
      ],
      "execution_count": 26
    },
    {
      "cell_type": "code",
      "source": [
        "model = LogisticRegression(max_iter=1000, random_state=42)\n",
        "model.fit(X_train, y_train)\n"
      ],
      "metadata": {
        "trusted": true,
        "execution": {
          "iopub.status.busy": "2025-08-25T12:23:02.931056Z",
          "iopub.execute_input": "2025-08-25T12:23:02.931373Z",
          "iopub.status.idle": "2025-08-25T12:23:03.151948Z",
          "shell.execute_reply.started": "2025-08-25T12:23:02.93134Z",
          "shell.execute_reply": "2025-08-25T12:23:03.150516Z"
        },
        "colab": {
          "base_uri": "https://localhost:8080/",
          "height": 80
        },
        "id": "03Jh7FinX_kY",
        "outputId": "4f3b23dd-608d-4c0c-bac5-bcd593187eab"
      },
      "outputs": [
        {
          "output_type": "execute_result",
          "data": {
            "text/plain": [
              "LogisticRegression(max_iter=1000, random_state=42)"
            ],
            "text/html": [
              "<style>#sk-container-id-1 {\n",
              "  /* Definition of color scheme common for light and dark mode */\n",
              "  --sklearn-color-text: #000;\n",
              "  --sklearn-color-text-muted: #666;\n",
              "  --sklearn-color-line: gray;\n",
              "  /* Definition of color scheme for unfitted estimators */\n",
              "  --sklearn-color-unfitted-level-0: #fff5e6;\n",
              "  --sklearn-color-unfitted-level-1: #f6e4d2;\n",
              "  --sklearn-color-unfitted-level-2: #ffe0b3;\n",
              "  --sklearn-color-unfitted-level-3: chocolate;\n",
              "  /* Definition of color scheme for fitted estimators */\n",
              "  --sklearn-color-fitted-level-0: #f0f8ff;\n",
              "  --sklearn-color-fitted-level-1: #d4ebff;\n",
              "  --sklearn-color-fitted-level-2: #b3dbfd;\n",
              "  --sklearn-color-fitted-level-3: cornflowerblue;\n",
              "\n",
              "  /* Specific color for light theme */\n",
              "  --sklearn-color-text-on-default-background: var(--sg-text-color, var(--theme-code-foreground, var(--jp-content-font-color1, black)));\n",
              "  --sklearn-color-background: var(--sg-background-color, var(--theme-background, var(--jp-layout-color0, white)));\n",
              "  --sklearn-color-border-box: var(--sg-text-color, var(--theme-code-foreground, var(--jp-content-font-color1, black)));\n",
              "  --sklearn-color-icon: #696969;\n",
              "\n",
              "  @media (prefers-color-scheme: dark) {\n",
              "    /* Redefinition of color scheme for dark theme */\n",
              "    --sklearn-color-text-on-default-background: var(--sg-text-color, var(--theme-code-foreground, var(--jp-content-font-color1, white)));\n",
              "    --sklearn-color-background: var(--sg-background-color, var(--theme-background, var(--jp-layout-color0, #111)));\n",
              "    --sklearn-color-border-box: var(--sg-text-color, var(--theme-code-foreground, var(--jp-content-font-color1, white)));\n",
              "    --sklearn-color-icon: #878787;\n",
              "  }\n",
              "}\n",
              "\n",
              "#sk-container-id-1 {\n",
              "  color: var(--sklearn-color-text);\n",
              "}\n",
              "\n",
              "#sk-container-id-1 pre {\n",
              "  padding: 0;\n",
              "}\n",
              "\n",
              "#sk-container-id-1 input.sk-hidden--visually {\n",
              "  border: 0;\n",
              "  clip: rect(1px 1px 1px 1px);\n",
              "  clip: rect(1px, 1px, 1px, 1px);\n",
              "  height: 1px;\n",
              "  margin: -1px;\n",
              "  overflow: hidden;\n",
              "  padding: 0;\n",
              "  position: absolute;\n",
              "  width: 1px;\n",
              "}\n",
              "\n",
              "#sk-container-id-1 div.sk-dashed-wrapped {\n",
              "  border: 1px dashed var(--sklearn-color-line);\n",
              "  margin: 0 0.4em 0.5em 0.4em;\n",
              "  box-sizing: border-box;\n",
              "  padding-bottom: 0.4em;\n",
              "  background-color: var(--sklearn-color-background);\n",
              "}\n",
              "\n",
              "#sk-container-id-1 div.sk-container {\n",
              "  /* jupyter's `normalize.less` sets `[hidden] { display: none; }`\n",
              "     but bootstrap.min.css set `[hidden] { display: none !important; }`\n",
              "     so we also need the `!important` here to be able to override the\n",
              "     default hidden behavior on the sphinx rendered scikit-learn.org.\n",
              "     See: https://github.com/scikit-learn/scikit-learn/issues/21755 */\n",
              "  display: inline-block !important;\n",
              "  position: relative;\n",
              "}\n",
              "\n",
              "#sk-container-id-1 div.sk-text-repr-fallback {\n",
              "  display: none;\n",
              "}\n",
              "\n",
              "div.sk-parallel-item,\n",
              "div.sk-serial,\n",
              "div.sk-item {\n",
              "  /* draw centered vertical line to link estimators */\n",
              "  background-image: linear-gradient(var(--sklearn-color-text-on-default-background), var(--sklearn-color-text-on-default-background));\n",
              "  background-size: 2px 100%;\n",
              "  background-repeat: no-repeat;\n",
              "  background-position: center center;\n",
              "}\n",
              "\n",
              "/* Parallel-specific style estimator block */\n",
              "\n",
              "#sk-container-id-1 div.sk-parallel-item::after {\n",
              "  content: \"\";\n",
              "  width: 100%;\n",
              "  border-bottom: 2px solid var(--sklearn-color-text-on-default-background);\n",
              "  flex-grow: 1;\n",
              "}\n",
              "\n",
              "#sk-container-id-1 div.sk-parallel {\n",
              "  display: flex;\n",
              "  align-items: stretch;\n",
              "  justify-content: center;\n",
              "  background-color: var(--sklearn-color-background);\n",
              "  position: relative;\n",
              "}\n",
              "\n",
              "#sk-container-id-1 div.sk-parallel-item {\n",
              "  display: flex;\n",
              "  flex-direction: column;\n",
              "}\n",
              "\n",
              "#sk-container-id-1 div.sk-parallel-item:first-child::after {\n",
              "  align-self: flex-end;\n",
              "  width: 50%;\n",
              "}\n",
              "\n",
              "#sk-container-id-1 div.sk-parallel-item:last-child::after {\n",
              "  align-self: flex-start;\n",
              "  width: 50%;\n",
              "}\n",
              "\n",
              "#sk-container-id-1 div.sk-parallel-item:only-child::after {\n",
              "  width: 0;\n",
              "}\n",
              "\n",
              "/* Serial-specific style estimator block */\n",
              "\n",
              "#sk-container-id-1 div.sk-serial {\n",
              "  display: flex;\n",
              "  flex-direction: column;\n",
              "  align-items: center;\n",
              "  background-color: var(--sklearn-color-background);\n",
              "  padding-right: 1em;\n",
              "  padding-left: 1em;\n",
              "}\n",
              "\n",
              "\n",
              "/* Toggleable style: style used for estimator/Pipeline/ColumnTransformer box that is\n",
              "clickable and can be expanded/collapsed.\n",
              "- Pipeline and ColumnTransformer use this feature and define the default style\n",
              "- Estimators will overwrite some part of the style using the `sk-estimator` class\n",
              "*/\n",
              "\n",
              "/* Pipeline and ColumnTransformer style (default) */\n",
              "\n",
              "#sk-container-id-1 div.sk-toggleable {\n",
              "  /* Default theme specific background. It is overwritten whether we have a\n",
              "  specific estimator or a Pipeline/ColumnTransformer */\n",
              "  background-color: var(--sklearn-color-background);\n",
              "}\n",
              "\n",
              "/* Toggleable label */\n",
              "#sk-container-id-1 label.sk-toggleable__label {\n",
              "  cursor: pointer;\n",
              "  display: flex;\n",
              "  width: 100%;\n",
              "  margin-bottom: 0;\n",
              "  padding: 0.5em;\n",
              "  box-sizing: border-box;\n",
              "  text-align: center;\n",
              "  align-items: start;\n",
              "  justify-content: space-between;\n",
              "  gap: 0.5em;\n",
              "}\n",
              "\n",
              "#sk-container-id-1 label.sk-toggleable__label .caption {\n",
              "  font-size: 0.6rem;\n",
              "  font-weight: lighter;\n",
              "  color: var(--sklearn-color-text-muted);\n",
              "}\n",
              "\n",
              "#sk-container-id-1 label.sk-toggleable__label-arrow:before {\n",
              "  /* Arrow on the left of the label */\n",
              "  content: \"▸\";\n",
              "  float: left;\n",
              "  margin-right: 0.25em;\n",
              "  color: var(--sklearn-color-icon);\n",
              "}\n",
              "\n",
              "#sk-container-id-1 label.sk-toggleable__label-arrow:hover:before {\n",
              "  color: var(--sklearn-color-text);\n",
              "}\n",
              "\n",
              "/* Toggleable content - dropdown */\n",
              "\n",
              "#sk-container-id-1 div.sk-toggleable__content {\n",
              "  max-height: 0;\n",
              "  max-width: 0;\n",
              "  overflow: hidden;\n",
              "  text-align: left;\n",
              "  /* unfitted */\n",
              "  background-color: var(--sklearn-color-unfitted-level-0);\n",
              "}\n",
              "\n",
              "#sk-container-id-1 div.sk-toggleable__content.fitted {\n",
              "  /* fitted */\n",
              "  background-color: var(--sklearn-color-fitted-level-0);\n",
              "}\n",
              "\n",
              "#sk-container-id-1 div.sk-toggleable__content pre {\n",
              "  margin: 0.2em;\n",
              "  border-radius: 0.25em;\n",
              "  color: var(--sklearn-color-text);\n",
              "  /* unfitted */\n",
              "  background-color: var(--sklearn-color-unfitted-level-0);\n",
              "}\n",
              "\n",
              "#sk-container-id-1 div.sk-toggleable__content.fitted pre {\n",
              "  /* unfitted */\n",
              "  background-color: var(--sklearn-color-fitted-level-0);\n",
              "}\n",
              "\n",
              "#sk-container-id-1 input.sk-toggleable__control:checked~div.sk-toggleable__content {\n",
              "  /* Expand drop-down */\n",
              "  max-height: 200px;\n",
              "  max-width: 100%;\n",
              "  overflow: auto;\n",
              "}\n",
              "\n",
              "#sk-container-id-1 input.sk-toggleable__control:checked~label.sk-toggleable__label-arrow:before {\n",
              "  content: \"▾\";\n",
              "}\n",
              "\n",
              "/* Pipeline/ColumnTransformer-specific style */\n",
              "\n",
              "#sk-container-id-1 div.sk-label input.sk-toggleable__control:checked~label.sk-toggleable__label {\n",
              "  color: var(--sklearn-color-text);\n",
              "  background-color: var(--sklearn-color-unfitted-level-2);\n",
              "}\n",
              "\n",
              "#sk-container-id-1 div.sk-label.fitted input.sk-toggleable__control:checked~label.sk-toggleable__label {\n",
              "  background-color: var(--sklearn-color-fitted-level-2);\n",
              "}\n",
              "\n",
              "/* Estimator-specific style */\n",
              "\n",
              "/* Colorize estimator box */\n",
              "#sk-container-id-1 div.sk-estimator input.sk-toggleable__control:checked~label.sk-toggleable__label {\n",
              "  /* unfitted */\n",
              "  background-color: var(--sklearn-color-unfitted-level-2);\n",
              "}\n",
              "\n",
              "#sk-container-id-1 div.sk-estimator.fitted input.sk-toggleable__control:checked~label.sk-toggleable__label {\n",
              "  /* fitted */\n",
              "  background-color: var(--sklearn-color-fitted-level-2);\n",
              "}\n",
              "\n",
              "#sk-container-id-1 div.sk-label label.sk-toggleable__label,\n",
              "#sk-container-id-1 div.sk-label label {\n",
              "  /* The background is the default theme color */\n",
              "  color: var(--sklearn-color-text-on-default-background);\n",
              "}\n",
              "\n",
              "/* On hover, darken the color of the background */\n",
              "#sk-container-id-1 div.sk-label:hover label.sk-toggleable__label {\n",
              "  color: var(--sklearn-color-text);\n",
              "  background-color: var(--sklearn-color-unfitted-level-2);\n",
              "}\n",
              "\n",
              "/* Label box, darken color on hover, fitted */\n",
              "#sk-container-id-1 div.sk-label.fitted:hover label.sk-toggleable__label.fitted {\n",
              "  color: var(--sklearn-color-text);\n",
              "  background-color: var(--sklearn-color-fitted-level-2);\n",
              "}\n",
              "\n",
              "/* Estimator label */\n",
              "\n",
              "#sk-container-id-1 div.sk-label label {\n",
              "  font-family: monospace;\n",
              "  font-weight: bold;\n",
              "  display: inline-block;\n",
              "  line-height: 1.2em;\n",
              "}\n",
              "\n",
              "#sk-container-id-1 div.sk-label-container {\n",
              "  text-align: center;\n",
              "}\n",
              "\n",
              "/* Estimator-specific */\n",
              "#sk-container-id-1 div.sk-estimator {\n",
              "  font-family: monospace;\n",
              "  border: 1px dotted var(--sklearn-color-border-box);\n",
              "  border-radius: 0.25em;\n",
              "  box-sizing: border-box;\n",
              "  margin-bottom: 0.5em;\n",
              "  /* unfitted */\n",
              "  background-color: var(--sklearn-color-unfitted-level-0);\n",
              "}\n",
              "\n",
              "#sk-container-id-1 div.sk-estimator.fitted {\n",
              "  /* fitted */\n",
              "  background-color: var(--sklearn-color-fitted-level-0);\n",
              "}\n",
              "\n",
              "/* on hover */\n",
              "#sk-container-id-1 div.sk-estimator:hover {\n",
              "  /* unfitted */\n",
              "  background-color: var(--sklearn-color-unfitted-level-2);\n",
              "}\n",
              "\n",
              "#sk-container-id-1 div.sk-estimator.fitted:hover {\n",
              "  /* fitted */\n",
              "  background-color: var(--sklearn-color-fitted-level-2);\n",
              "}\n",
              "\n",
              "/* Specification for estimator info (e.g. \"i\" and \"?\") */\n",
              "\n",
              "/* Common style for \"i\" and \"?\" */\n",
              "\n",
              ".sk-estimator-doc-link,\n",
              "a:link.sk-estimator-doc-link,\n",
              "a:visited.sk-estimator-doc-link {\n",
              "  float: right;\n",
              "  font-size: smaller;\n",
              "  line-height: 1em;\n",
              "  font-family: monospace;\n",
              "  background-color: var(--sklearn-color-background);\n",
              "  border-radius: 1em;\n",
              "  height: 1em;\n",
              "  width: 1em;\n",
              "  text-decoration: none !important;\n",
              "  margin-left: 0.5em;\n",
              "  text-align: center;\n",
              "  /* unfitted */\n",
              "  border: var(--sklearn-color-unfitted-level-1) 1pt solid;\n",
              "  color: var(--sklearn-color-unfitted-level-1);\n",
              "}\n",
              "\n",
              ".sk-estimator-doc-link.fitted,\n",
              "a:link.sk-estimator-doc-link.fitted,\n",
              "a:visited.sk-estimator-doc-link.fitted {\n",
              "  /* fitted */\n",
              "  border: var(--sklearn-color-fitted-level-1) 1pt solid;\n",
              "  color: var(--sklearn-color-fitted-level-1);\n",
              "}\n",
              "\n",
              "/* On hover */\n",
              "div.sk-estimator:hover .sk-estimator-doc-link:hover,\n",
              ".sk-estimator-doc-link:hover,\n",
              "div.sk-label-container:hover .sk-estimator-doc-link:hover,\n",
              ".sk-estimator-doc-link:hover {\n",
              "  /* unfitted */\n",
              "  background-color: var(--sklearn-color-unfitted-level-3);\n",
              "  color: var(--sklearn-color-background);\n",
              "  text-decoration: none;\n",
              "}\n",
              "\n",
              "div.sk-estimator.fitted:hover .sk-estimator-doc-link.fitted:hover,\n",
              ".sk-estimator-doc-link.fitted:hover,\n",
              "div.sk-label-container:hover .sk-estimator-doc-link.fitted:hover,\n",
              ".sk-estimator-doc-link.fitted:hover {\n",
              "  /* fitted */\n",
              "  background-color: var(--sklearn-color-fitted-level-3);\n",
              "  color: var(--sklearn-color-background);\n",
              "  text-decoration: none;\n",
              "}\n",
              "\n",
              "/* Span, style for the box shown on hovering the info icon */\n",
              ".sk-estimator-doc-link span {\n",
              "  display: none;\n",
              "  z-index: 9999;\n",
              "  position: relative;\n",
              "  font-weight: normal;\n",
              "  right: .2ex;\n",
              "  padding: .5ex;\n",
              "  margin: .5ex;\n",
              "  width: min-content;\n",
              "  min-width: 20ex;\n",
              "  max-width: 50ex;\n",
              "  color: var(--sklearn-color-text);\n",
              "  box-shadow: 2pt 2pt 4pt #999;\n",
              "  /* unfitted */\n",
              "  background: var(--sklearn-color-unfitted-level-0);\n",
              "  border: .5pt solid var(--sklearn-color-unfitted-level-3);\n",
              "}\n",
              "\n",
              ".sk-estimator-doc-link.fitted span {\n",
              "  /* fitted */\n",
              "  background: var(--sklearn-color-fitted-level-0);\n",
              "  border: var(--sklearn-color-fitted-level-3);\n",
              "}\n",
              "\n",
              ".sk-estimator-doc-link:hover span {\n",
              "  display: block;\n",
              "}\n",
              "\n",
              "/* \"?\"-specific style due to the `<a>` HTML tag */\n",
              "\n",
              "#sk-container-id-1 a.estimator_doc_link {\n",
              "  float: right;\n",
              "  font-size: 1rem;\n",
              "  line-height: 1em;\n",
              "  font-family: monospace;\n",
              "  background-color: var(--sklearn-color-background);\n",
              "  border-radius: 1rem;\n",
              "  height: 1rem;\n",
              "  width: 1rem;\n",
              "  text-decoration: none;\n",
              "  /* unfitted */\n",
              "  color: var(--sklearn-color-unfitted-level-1);\n",
              "  border: var(--sklearn-color-unfitted-level-1) 1pt solid;\n",
              "}\n",
              "\n",
              "#sk-container-id-1 a.estimator_doc_link.fitted {\n",
              "  /* fitted */\n",
              "  border: var(--sklearn-color-fitted-level-1) 1pt solid;\n",
              "  color: var(--sklearn-color-fitted-level-1);\n",
              "}\n",
              "\n",
              "/* On hover */\n",
              "#sk-container-id-1 a.estimator_doc_link:hover {\n",
              "  /* unfitted */\n",
              "  background-color: var(--sklearn-color-unfitted-level-3);\n",
              "  color: var(--sklearn-color-background);\n",
              "  text-decoration: none;\n",
              "}\n",
              "\n",
              "#sk-container-id-1 a.estimator_doc_link.fitted:hover {\n",
              "  /* fitted */\n",
              "  background-color: var(--sklearn-color-fitted-level-3);\n",
              "}\n",
              "</style><div id=\"sk-container-id-1\" class=\"sk-top-container\"><div class=\"sk-text-repr-fallback\"><pre>LogisticRegression(max_iter=1000, random_state=42)</pre><b>In a Jupyter environment, please rerun this cell to show the HTML representation or trust the notebook. <br />On GitHub, the HTML representation is unable to render, please try loading this page with nbviewer.org.</b></div><div class=\"sk-container\" hidden><div class=\"sk-item\"><div class=\"sk-estimator fitted sk-toggleable\"><input class=\"sk-toggleable__control sk-hidden--visually\" id=\"sk-estimator-id-1\" type=\"checkbox\" checked><label for=\"sk-estimator-id-1\" class=\"sk-toggleable__label fitted sk-toggleable__label-arrow\"><div><div>LogisticRegression</div></div><div><a class=\"sk-estimator-doc-link fitted\" rel=\"noreferrer\" target=\"_blank\" href=\"https://scikit-learn.org/1.6/modules/generated/sklearn.linear_model.LogisticRegression.html\">?<span>Documentation for LogisticRegression</span></a><span class=\"sk-estimator-doc-link fitted\">i<span>Fitted</span></span></div></label><div class=\"sk-toggleable__content fitted\"><pre>LogisticRegression(max_iter=1000, random_state=42)</pre></div> </div></div></div></div>"
            ]
          },
          "metadata": {},
          "execution_count": 27
        }
      ],
      "execution_count": 27
    },
    {
      "cell_type": "code",
      "source": [
        "y_pred = model.predict(X_test)\n",
        "\n",
        "print(\"Accuracy:\", accuracy_score(y_test, y_pred))\n",
        "print(\"\\nClassification Report:\\n\", classification_report(y_test, y_pred))\n",
        "\n",
        "cm = confusion_matrix(y_test, y_pred)\n",
        "sns.heatmap(cm, annot=True, fmt=\"d\", cmap=\"Blues\")\n",
        "plt.title(\"Confusion Matrix\")\n",
        "plt.xlabel(\"Predicted\")\n",
        "plt.ylabel(\"True\")\n",
        "plt.show()\n"
      ],
      "metadata": {
        "trusted": true,
        "execution": {
          "iopub.status.busy": "2025-08-25T12:23:42.352844Z",
          "iopub.execute_input": "2025-08-25T12:23:42.353188Z",
          "iopub.status.idle": "2025-08-25T12:23:42.581367Z",
          "shell.execute_reply.started": "2025-08-25T12:23:42.353163Z",
          "shell.execute_reply": "2025-08-25T12:23:42.580513Z"
        },
        "colab": {
          "base_uri": "https://localhost:8080/",
          "height": 715
        },
        "id": "2WoNa_pXX_kZ",
        "outputId": "8da280f4-7e6d-4a91-fcf7-7c9be64dd269"
      },
      "outputs": [
        {
          "output_type": "stream",
          "name": "stdout",
          "text": [
            "Accuracy: 1.0\n",
            "\n",
            "Classification Report:\n",
            "               precision    recall  f1-score   support\n",
            "\n",
            "  Drug_drugA       1.00      1.00      1.00        23\n",
            "  Drug_drugB       1.00      1.00      1.00         3\n",
            "  Drug_drugC       1.00      1.00      1.00         3\n",
            "  Drug_drugX       1.00      1.00      1.00        11\n",
            "\n",
            "    accuracy                           1.00        40\n",
            "   macro avg       1.00      1.00      1.00        40\n",
            "weighted avg       1.00      1.00      1.00        40\n",
            "\n"
          ]
        },
        {
          "output_type": "display_data",
          "data": {
            "text/plain": [
              "<Figure size 640x480 with 2 Axes>"
            ],
            "image/png": "[encoded data removed]"
          },
          "metadata": {}
        }
      ],
      "execution_count": 28
    },
    {
      "cell_type": "code",
      "source": [
        "from sklearn.linear_model import LogisticRegression\n",
        "from sklearn.metrics import accuracy_score, classification_report, confusion_matrix\n",
        "\n",
        "model = LogisticRegression(max_iter=1000)\n",
        "model.fit(X_train, y_train)\n",
        "\n",
        "y_pred = model.predict(X_test)\n",
        "\n",
        "print(\"✅ Training Done\")\n",
        "print(\"Accuracy:\", accuracy_score(y_test, y_pred))\n",
        "print(\"\\nClassification Report:\\n\", classification_report(y_test, y_pred))\n",
        "print(\"\\nConfusion Matrix:\\n\", confusion_matrix(y_test, y_pred))\n"
      ],
      "metadata": {
        "trusted": true,
        "execution": {
          "iopub.status.busy": "2025-08-25T12:25:00.221507Z",
          "iopub.execute_input": "2025-08-25T12:25:00.221796Z",
          "iopub.status.idle": "2025-08-25T12:25:00.455442Z",
          "shell.execute_reply.started": "2025-08-25T12:25:00.221776Z",
          "shell.execute_reply": "2025-08-25T12:25:00.454391Z"
        },
        "colab": {
          "base_uri": "https://localhost:8080/"
        },
        "id": "U2iKWPm1X_kZ",
        "outputId": "97c03d02-fb19-4397-f2b8-4ef8aec9eab7"
      },
      "outputs": [
        {
          "output_type": "stream",
          "name": "stdout",
          "text": [
            "✅ Training Done\n",
            "Accuracy: 1.0\n",
            "\n",
            "Classification Report:\n",
            "               precision    recall  f1-score   support\n",
            "\n",
            "  Drug_drugA       1.00      1.00      1.00        23\n",
            "  Drug_drugB       1.00      1.00      1.00         3\n",
            "  Drug_drugC       1.00      1.00      1.00         3\n",
            "  Drug_drugX       1.00      1.00      1.00        11\n",
            "\n",
            "    accuracy                           1.00        40\n",
            "   macro avg       1.00      1.00      1.00        40\n",
            "weighted avg       1.00      1.00      1.00        40\n",
            "\n",
            "\n",
            "Confusion Matrix:\n",
            " [[23  0  0  0]\n",
            " [ 0  3  0  0]\n",
            " [ 0  0  3  0]\n",
            " [ 0  0  0 11]]\n"
          ]
        }
      ],
      "execution_count": 29
    },
    {
      "cell_type": "code",
      "source": [
        "\n",
        "y_pred = model.predict(X_test)\n",
        "\n",
        "results = pd.DataFrame({\n",
        "    \"Actual\": y_test,\n",
        "    \"Predicted\": y_pred\n",
        "})\n",
        "\n",
        "print(results.head(20))\n"
      ],
      "metadata": {
        "trusted": true,
        "execution": {
          "iopub.status.busy": "2025-08-25T12:26:54.490292Z",
          "iopub.execute_input": "2025-08-25T12:26:54.490655Z",
          "iopub.status.idle": "2025-08-25T12:26:54.50042Z",
          "shell.execute_reply.started": "2025-08-25T12:26:54.49063Z",
          "shell.execute_reply": "2025-08-25T12:26:54.499573Z"
        },
        "colab": {
          "base_uri": "https://localhost:8080/"
        },
        "id": "HAVtXHgaX_kZ",
        "outputId": "cd6d71d1-49bf-42f9-e685-61fc6c2112ba"
      },
      "outputs": [
        {
          "output_type": "stream",
          "name": "stdout",
          "text": [
            "         Actual   Predicted\n",
            "4    Drug_drugA  Drug_drugA\n",
            "136  Drug_drugB  Drug_drugB\n",
            "82   Drug_drugC  Drug_drugC\n",
            "143  Drug_drugA  Drug_drugA\n",
            "116  Drug_drugX  Drug_drugX\n",
            "92   Drug_drugA  Drug_drugA\n",
            "105  Drug_drugX  Drug_drugX\n",
            "154  Drug_drugA  Drug_drugA\n",
            "45   Drug_drugX  Drug_drugX\n",
            "152  Drug_drugX  Drug_drugX\n",
            "123  Drug_drugA  Drug_drugA\n",
            "106  Drug_drugX  Drug_drugX\n",
            "180  Drug_drugA  Drug_drugA\n",
            "198  Drug_drugX  Drug_drugX\n",
            "193  Drug_drugC  Drug_drugC\n",
            "23   Drug_drugA  Drug_drugA\n",
            "185  Drug_drugA  Drug_drugA\n",
            "178  Drug_drugA  Drug_drugA\n",
            "145  Drug_drugX  Drug_drugX\n",
            "128  Drug_drugA  Drug_drugA\n"
          ]
        }
      ],
      "execution_count": 30
    },
    {
      "cell_type": "code",
      "source": [
        "\n",
        "y_pred = model.predict(X_test)\n",
        "\n",
        "results = pd.DataFrame({\n",
        "    \"Actual\": y_test,\n",
        "    \"Predicted\": y_pred\n",
        "})\n",
        "\n",
        "results[\"Correct\"] = results[\"Actual\"] == results[\"Predicted\"]\n",
        "\n",
        "results[\"Correct\"] = results[\"Correct\"].map({True: \"✅\", False: \"❌\"})\n",
        "\n",
        "print(results.head(20))\n"
      ],
      "metadata": {
        "trusted": true,
        "execution": {
          "iopub.status.busy": "2025-08-25T12:30:11.976761Z",
          "iopub.execute_input": "2025-08-25T12:30:11.977087Z",
          "iopub.status.idle": "2025-08-25T12:30:11.990423Z",
          "shell.execute_reply.started": "2025-08-25T12:30:11.977063Z",
          "shell.execute_reply": "2025-08-25T12:30:11.989504Z"
        },
        "colab": {
          "base_uri": "https://localhost:8080/"
        },
        "id": "UaD-mKxcX_ka",
        "outputId": "b9f9bfed-05a7-49ec-bf48-64ffd516cc7b"
      },
      "outputs": [
        {
          "output_type": "stream",
          "name": "stdout",
          "text": [
            "         Actual   Predicted Correct\n",
            "4    Drug_drugA  Drug_drugA       ✅\n",
            "136  Drug_drugB  Drug_drugB       ✅\n",
            "82   Drug_drugC  Drug_drugC       ✅\n",
            "143  Drug_drugA  Drug_drugA       ✅\n",
            "116  Drug_drugX  Drug_drugX       ✅\n",
            "92   Drug_drugA  Drug_drugA       ✅\n",
            "105  Drug_drugX  Drug_drugX       ✅\n",
            "154  Drug_drugA  Drug_drugA       ✅\n",
            "45   Drug_drugX  Drug_drugX       ✅\n",
            "152  Drug_drugX  Drug_drugX       ✅\n",
            "123  Drug_drugA  Drug_drugA       ✅\n",
            "106  Drug_drugX  Drug_drugX       ✅\n",
            "180  Drug_drugA  Drug_drugA       ✅\n",
            "198  Drug_drugX  Drug_drugX       ✅\n",
            "193  Drug_drugC  Drug_drugC       ✅\n",
            "23   Drug_drugA  Drug_drugA       ✅\n",
            "185  Drug_drugA  Drug_drugA       ✅\n",
            "178  Drug_drugA  Drug_drugA       ✅\n",
            "145  Drug_drugX  Drug_drugX       ✅\n",
            "128  Drug_drugA  Drug_drugA       ✅\n"
          ]
        }
      ],
      "execution_count": 31
    },
    {
      "cell_type": "code",
      "source": [
        "import matplotlib.pyplot as plt\n",
        "import pandas as pd\n",
        "\n",
        "y_pred = model.predict(X_test)\n",
        "\n",
        "results = pd.DataFrame({\n",
        "    \"Actual\": y_test,\n",
        "    \"Predicted\": y_pred\n",
        "})\n",
        "results[\"Correct\"] = results[\"Actual\"] == results[\"Predicted\"]\n",
        "\n",
        "results[\"Correct\"] = results[\"Correct\"].map({True: \"correct\", False: \"incorrect\"})\n",
        "\n",
        "table = results.head(20)\n",
        "\n",
        "fig, ax = plt.subplots(figsize=(8, 6))\n",
        "ax.axis(\"off\")\n",
        "tbl = ax.table(cellText=table.values, colLabels=table.columns, loc=\"center\", cellLoc=\"center\")\n",
        "\n",
        "for i in range(len(table)):\n",
        "    if table.iloc[i, 2] == \"✅\":\n",
        "        [tbl[(i+1, j)].set_facecolor(\"#c8e6c9\") for j in range(len(table.columns))]\n",
        "    else:\n",
        "        [tbl[(i+1, j)].set_facecolor(\"#ffcdd2\") for j in range(len(table.columns))]\n",
        "\n",
        "tbl.auto_set_font_size(False)\n",
        "tbl.set_fontsize(10)\n",
        "tbl.scale(1.2, 1.2)\n",
        "\n",
        "plt.show()\n"
      ],
      "metadata": {
        "trusted": true,
        "execution": {
          "iopub.status.busy": "2025-08-25T12:34:03.563248Z",
          "iopub.execute_input": "2025-08-25T12:34:03.563595Z",
          "iopub.status.idle": "2025-08-25T12:34:03.931481Z",
          "shell.execute_reply.started": "2025-08-25T12:34:03.563571Z",
          "shell.execute_reply": "2025-08-25T12:34:03.930316Z"
        },
        "colab": {
          "base_uri": "https://localhost:8080/",
          "height": 499
        },
        "id": "3MiF5NcVX_ka",
        "outputId": "51889709-4351-45ea-93cf-f440466fabf6"
      },
      "outputs": [
        {
          "output_type": "display_data",
          "data": {
            "text/plain": [
              "<Figure size 800x600 with 1 Axes>"
            ],
            "image/png": "[encoded data removed]"
          },
          "metadata": {}
        }
      ],
      "execution_count": 32
    },
    {
      "cell_type": "code",
      "source": [
        "import pandas as pd\n",
        "\n",
        "#\n",
        "new_data = pd.DataFrame([{\n",
        "    \"Age\": 30,\n",
        "    \"Na_to_K\": 12,\n",
        "    \"Sex_M\": 1,              # Male = 1, Female = 0\n",
        "    \"BP_LOW\": 0,\n",
        "    \"BP_NORMAL\": 1,\n",
        "    \"Cholesterol_NORMAL\": 0,\n",
        "}])\n",
        "\n",
        "print(new_data)\n"
      ],
      "metadata": {
        "trusted": true,
        "execution": {
          "iopub.status.busy": "2025-08-25T12:36:17.231597Z",
          "iopub.execute_input": "2025-08-25T12:36:17.231932Z",
          "iopub.status.idle": "2025-08-25T12:36:17.24147Z",
          "shell.execute_reply.started": "2025-08-25T12:36:17.23191Z",
          "shell.execute_reply": "2025-08-25T12:36:17.240317Z"
        },
        "colab": {
          "base_uri": "https://localhost:8080/"
        },
        "id": "P2_5d2ghX_ka",
        "outputId": "7fc3c7b8-fa3e-43a5-e71d-cdaada58ccba"
      },
      "outputs": [
        {
          "output_type": "stream",
          "name": "stdout",
          "text": [
            "   Age  Na_to_K  Sex_M  BP_LOW  BP_NORMAL  Cholesterol_NORMAL\n",
            "0   30       12      1       0          1                   0\n"
          ]
        }
      ],
      "execution_count": 33
    },
    {
      "cell_type": "code",
      "source": [
        "\n",
        "columns = X_train.columns\n",
        "\n",
        "new_data = pd.DataFrame([{\n",
        "    \"Age\": 30,\n",
        "    \"Na_to_K\": 12,\n",
        "    \"Sex_M\": 1,\n",
        "    \"BP_LOW\": 0,\n",
        "    \"BP_NORMAL\": 1,\n",
        "    \"Cholesterol_NORMAL\": 0,\n",
        "    #\n",
        "    \"Drug_drugA\": 0,\n",
        "    \"Drug_drugB\": 0,\n",
        "    \"Drug_drugC\": 0,\n",
        "    \"Drug_drugX\": 0\n",
        "}])[columns]\n",
        "\n",
        "# prediction\n",
        "prediction = model.predict(new_data)\n",
        "print(\"Predicted class:\", prediction[0].replace(\"Drug_\", \"\"))\n"
      ],
      "metadata": {
        "trusted": true,
        "execution": {
          "iopub.status.busy": "2025-08-25T12:38:07.495517Z",
          "iopub.execute_input": "2025-08-25T12:38:07.495865Z",
          "iopub.status.idle": "2025-08-25T12:38:07.505865Z",
          "shell.execute_reply.started": "2025-08-25T12:38:07.495842Z",
          "shell.execute_reply": "2025-08-25T12:38:07.505019Z"
        },
        "colab": {
          "base_uri": "https://localhost:8080/"
        },
        "id": "sAwf9LejX_kb",
        "outputId": "605446de-b7c8-463c-ce38-8dd806757bb8"
      },
      "outputs": [
        {
          "output_type": "stream",
          "name": "stdout",
          "text": [
            "Predicted class: drugA\n"
          ]
        }
      ],
      "execution_count": 34
    },
    {
      "cell_type": "code",
      "source": [
        "from sklearn.model_selection import train_test_split\n",
        "from sklearn.linear_model import LogisticRegression\n",
        "from sklearn.metrics import accuracy_score, classification_report, confusion_matrix\n",
        "\n",
        "X = df[[\"Age\", \"Na_to_K\", \"Sex_M\", \"BP_LOW\", \"BP_NORMAL\", \"Cholesterol_NORMAL\"]]\n",
        "\n",
        "\n",
        "y = df[\"Drug\"]\n",
        "\n",
        "# train/test split\n",
        "X_train, X_test, y_train, y_test = train_test_split(X, y, test_size=0.2, random_state=42)\n",
        "\n",
        "# model\n",
        "model = LogisticRegression(max_iter=1000)\n",
        "model.fit(X_train, y_train)\n",
        "\n",
        "# evaluation\n",
        "y_pred = model.predict(X_test)\n",
        "print(\"Accuracy:\", accuracy_score(y_test, y_pred))\n",
        "print(\"\\nClassification Report:\\n\", classification_report(y_test, y_pred))\n",
        "print(\"\\nConfusion Matrix:\\n\", confusion_matrix(y_test, y_pred))\n"
      ],
      "metadata": {
        "trusted": true,
        "execution": {
          "iopub.status.busy": "2025-08-25T12:39:05.301316Z",
          "iopub.execute_input": "2025-08-25T12:39:05.302052Z",
          "iopub.status.idle": "2025-08-25T12:39:05.513659Z",
          "shell.execute_reply.started": "2025-08-25T12:39:05.302021Z",
          "shell.execute_reply": "2025-08-25T12:39:05.512859Z"
        },
        "colab": {
          "base_uri": "https://localhost:8080/"
        },
        "id": "z6l9sMA0X_kb",
        "outputId": "6019268c-339c-42c3-8f3c-3beec60fab10"
      },
      "outputs": [
        {
          "output_type": "stream",
          "name": "stdout",
          "text": [
            "Accuracy: 0.875\n",
            "\n",
            "Classification Report:\n",
            "               precision    recall  f1-score   support\n",
            "\n",
            "  Drug_drugA       0.87      0.95      0.91        21\n",
            "  Drug_drugB       0.67      0.67      0.67         3\n",
            "  Drug_drugC       1.00      0.80      0.89         5\n",
            "  Drug_drugX       0.90      0.82      0.86        11\n",
            "\n",
            "    accuracy                           0.88        40\n",
            "   macro avg       0.86      0.81      0.83        40\n",
            "weighted avg       0.88      0.88      0.87        40\n",
            "\n",
            "\n",
            "Confusion Matrix:\n",
            " [[20  0  0  1]\n",
            " [ 1  2  0  0]\n",
            " [ 1  0  4  0]\n",
            " [ 1  1  0  9]]\n"
          ]
        }
      ],
      "execution_count": 35
    },
    {
      "cell_type": "code",
      "source": [
        "\n",
        "train_accuracy = model.score(X_train, y_train)\n",
        "\n",
        "\n",
        "test_accuracy = model.score(X_test, y_test)\n",
        "\n",
        "print(\"Train Accuracy:\", train_accuracy)\n",
        "print(\"Test Accuracy:\", test_accuracy)\n"
      ],
      "metadata": {
        "trusted": true,
        "execution": {
          "iopub.status.busy": "2025-08-25T12:40:46.042272Z",
          "iopub.execute_input": "2025-08-25T12:40:46.042632Z",
          "iopub.status.idle": "2025-08-25T12:40:46.056067Z",
          "shell.execute_reply.started": "2025-08-25T12:40:46.042607Z",
          "shell.execute_reply": "2025-08-25T12:40:46.055121Z"
        },
        "colab": {
          "base_uri": "https://localhost:8080/"
        },
        "id": "GitRfCivX_kc",
        "outputId": "d5f36419-bea3-43a7-cc22-8dc6b84ca22b"
      },
      "outputs": [
        {
          "output_type": "stream",
          "name": "stdout",
          "text": [
            "Train Accuracy: 0.93125\n",
            "Test Accuracy: 0.875\n"
          ]
        }
      ],
      "execution_count": 36
    },
    {
      "cell_type": "code",
      "source": [
        "from sklearn.ensemble import RandomForestClassifier\n",
        "from sklearn.metrics import accuracy_score, classification_report, confusion_matrix\n",
        "\n",
        "# Train the Random Forest model\n",
        "rf_model = RandomForestClassifier(n_estimators=100, random_state=42)\n",
        "rf_model.fit(X_train, y_train)\n",
        "\n",
        "# Predictions\n",
        "y_train_pred = rf_model.predict(X_train)\n",
        "y_test_pred = rf_model.predict(X_test)\n",
        "\n",
        "# Accuracy\n",
        "train_acc = accuracy_score(y_train, y_train_pred)\n",
        "test_acc = accuracy_score(y_test, y_test_pred)\n",
        "\n",
        "print(\"✅ Random Forest Training Done\")\n",
        "print(\"Train Accuracy:\", train_acc)\n",
        "print(\"Test Accuracy:\", test_acc)\n",
        "\n",
        "# Detailed Report\n",
        "print(\"\\nClassification Report (Test):\\n\", classification_report(y_test, y_test_pred))\n",
        "print(\"Confusion Matrix (Test):\\n\", confusion_matrix(y_test, y_test_pred))\n"
      ],
      "metadata": {
        "trusted": true,
        "execution": {
          "iopub.status.busy": "2025-08-25T12:43:23.66168Z",
          "iopub.execute_input": "2025-08-25T12:43:23.662308Z",
          "iopub.status.idle": "2025-08-25T12:43:24.179734Z",
          "shell.execute_reply.started": "2025-08-25T12:43:23.662262Z",
          "shell.execute_reply": "2025-08-25T12:43:24.178876Z"
        },
        "colab": {
          "base_uri": "https://localhost:8080/"
        },
        "id": "XmhD1dYIX_kc",
        "outputId": "cc1b5ea8-1dc9-41a7-aa12-039efbecbcd5"
      },
      "outputs": [
        {
          "output_type": "stream",
          "name": "stdout",
          "text": [
            "✅ Random Forest Training Done\n",
            "Train Accuracy: 1.0\n",
            "Test Accuracy: 1.0\n",
            "\n",
            "Classification Report (Test):\n",
            "               precision    recall  f1-score   support\n",
            "\n",
            "  Drug_drugA       1.00      1.00      1.00        21\n",
            "  Drug_drugB       1.00      1.00      1.00         3\n",
            "  Drug_drugC       1.00      1.00      1.00         5\n",
            "  Drug_drugX       1.00      1.00      1.00        11\n",
            "\n",
            "    accuracy                           1.00        40\n",
            "   macro avg       1.00      1.00      1.00        40\n",
            "weighted avg       1.00      1.00      1.00        40\n",
            "\n",
            "Confusion Matrix (Test):\n",
            " [[21  0  0  0]\n",
            " [ 0  3  0  0]\n",
            " [ 0  0  5  0]\n",
            " [ 0  0  0 11]]\n"
          ]
        }
      ],
      "execution_count": 37
    },
    {
      "cell_type": "code",
      "source": [
        "from sklearn.model_selection import cross_val_score\n",
        "from sklearn.ensemble import RandomForestClassifier\n",
        "import numpy as np\n",
        "\n",
        "rf_model = RandomForestClassifier(random_state=42)\n",
        "\n",
        "# Cross Validation (5-fold)\n",
        "cv_scores = cross_val_score(rf_model, X, y, cv=5)\n",
        "\n",
        "print(\"Cross Validation Scores:\", cv_scores)\n",
        "print(\"Mean Accuracy:\", np.mean(cv_scores))\n",
        "print(\"Standard Deviation:\", np.std(cv_scores))\n"
      ],
      "metadata": {
        "trusted": true,
        "execution": {
          "iopub.status.busy": "2025-08-25T12:44:26.232896Z",
          "iopub.execute_input": "2025-08-25T12:44:26.233185Z",
          "iopub.status.idle": "2025-08-25T12:44:26.977931Z",
          "shell.execute_reply.started": "2025-08-25T12:44:26.233163Z",
          "shell.execute_reply": "2025-08-25T12:44:26.977098Z"
        },
        "colab": {
          "base_uri": "https://localhost:8080/"
        },
        "id": "bAxp1C5hX_kc",
        "outputId": "bdc30e75-6788-4cda-cf57-4114303367c1"
      },
      "outputs": [
        {
          "output_type": "stream",
          "name": "stdout",
          "text": [
            "Cross Validation Scores: [1.  1.  1.  0.9 1. ]\n",
            "Mean Accuracy: 0.9800000000000001\n",
            "Standard Deviation: 0.039999999999999994\n"
          ]
        }
      ],
      "execution_count": 38
    },
    {
      "cell_type": "code",
      "source": [
        "coef = model.coef_[0]\n",
        "feature_names = X.columns\n",
        "\n",
        "feat_coef = pd.DataFrame({\n",
        "    \"Feature\": feature_names,\n",
        "    \"Coefficient\": coef\n",
        "}).sort_values(by=\"Coefficient\", ascending=False)\n",
        "\n",
        "print(\"⚖️ Logistic Regression Coefficients:\\n\", feat_coef)\n"
      ],
      "metadata": {
        "trusted": true,
        "execution": {
          "iopub.status.busy": "2025-08-25T12:46:57.224337Z",
          "iopub.execute_input": "2025-08-25T12:46:57.225037Z",
          "iopub.status.idle": "2025-08-25T12:46:57.233367Z",
          "shell.execute_reply.started": "2025-08-25T12:46:57.225009Z",
          "shell.execute_reply": "2025-08-25T12:46:57.232503Z"
        },
        "colab": {
          "base_uri": "https://localhost:8080/"
        },
        "id": "QVplm04EX_kd",
        "outputId": "ec7514de-b126-43b8-fddc-12b244f640f4"
      },
      "outputs": [
        {
          "output_type": "stream",
          "name": "stdout",
          "text": [
            "⚖️ Logistic Regression Coefficients:\n",
            "               Feature  Coefficient\n",
            "2               Sex_M     0.530155\n",
            "1             Na_to_K     0.512550\n",
            "5  Cholesterol_NORMAL     0.260901\n",
            "0                 Age    -0.045593\n",
            "4           BP_NORMAL    -0.973638\n",
            "3              BP_LOW    -1.569753\n"
          ]
        }
      ],
      "execution_count": 39
    },
    {
      "cell_type": "code",
      "source": [
        "import matplotlib.pyplot as plt\n",
        "\n",
        "features = ['Sex_M', 'Na_to_K', 'Cholesterol_NORMAL', 'Age', 'BP_NORMAL', 'BP_LOW']\n",
        "coefficients = [0.530942, 0.513218, 0.261623, -0.045600, -0.973509, -1.570954]\n",
        "\n",
        "\n",
        "plt.figure(figsize=(8,5))\n",
        "colors = ['green' if c > 0 else 'red' for c in coefficients]\n",
        "plt.barh(features, coefficients, color=colors)\n",
        "plt.xlabel('Coefficient Value')\n",
        "plt.title('Feature Impact on Logistic Regression Outcome')\n",
        "plt.axvline(x=0, color='black', linewidth=0.8)  # خط الصفر\n",
        "plt.show()\n"
      ],
      "metadata": {
        "trusted": true,
        "execution": {
          "iopub.status.busy": "2025-08-25T12:48:37.955425Z",
          "iopub.execute_input": "2025-08-25T12:48:37.955784Z",
          "iopub.status.idle": "2025-08-25T12:48:38.121581Z",
          "shell.execute_reply.started": "2025-08-25T12:48:37.95576Z",
          "shell.execute_reply": "2025-08-25T12:48:38.120779Z"
        },
        "colab": {
          "base_uri": "https://localhost:8080/",
          "height": 487
        },
        "id": "QzFhNemBX_kd",
        "outputId": "13a1af94-2397-4824-81d8-baee0181b2aa"
      },
      "outputs": [
        {
          "output_type": "display_data",
          "data": {
            "text/plain": [
              "<Figure size 800x500 with 1 Axes>"
            ],
            "image/png": "[encoded data removed]"
          },
          "metadata": {}
        }
      ],
      "execution_count": 40
    },
    {
      "cell_type": "code",
      "source": [
        "from sklearn.metrics import accuracy_score, confusion_matrix, classification_report\n",
        "\n",
        "\n",
        "y_pred = model.predict(X_test)\n",
        "\n",
        "acc = accuracy_score(y_test, y_pred)\n",
        "print(f\"Accuracy: {acc:.2f}\")\n",
        "\n",
        "cm = confusion_matrix(y_test, y_pred)\n",
        "print(\"Confusion Matrix:\")\n",
        "print(cm)\n",
        "\n",
        "report = classification_report(y_test, y_pred)\n",
        "print(\"Classification Report:\")\n",
        "print(report)\n"
      ],
      "metadata": {
        "trusted": true,
        "execution": {
          "iopub.status.busy": "2025-08-25T12:49:56.561878Z",
          "iopub.execute_input": "2025-08-25T12:49:56.562171Z",
          "iopub.status.idle": "2025-08-25T12:49:56.581359Z",
          "shell.execute_reply.started": "2025-08-25T12:49:56.56215Z",
          "shell.execute_reply": "2025-08-25T12:49:56.580462Z"
        },
        "colab": {
          "base_uri": "https://localhost:8080/"
        },
        "id": "PLnnDqlSX_kd",
        "outputId": "03c32e93-fc38-40df-c262-b7507d6830f6"
      },
      "outputs": [
        {
          "output_type": "stream",
          "name": "stdout",
          "text": [
            "Accuracy: 0.88\n",
            "Confusion Matrix:\n",
            "[[20  0  0  1]\n",
            " [ 1  2  0  0]\n",
            " [ 1  0  4  0]\n",
            " [ 1  1  0  9]]\n",
            "Classification Report:\n",
            "              precision    recall  f1-score   support\n",
            "\n",
            "  Drug_drugA       0.87      0.95      0.91        21\n",
            "  Drug_drugB       0.67      0.67      0.67         3\n",
            "  Drug_drugC       1.00      0.80      0.89         5\n",
            "  Drug_drugX       0.90      0.82      0.86        11\n",
            "\n",
            "    accuracy                           0.88        40\n",
            "   macro avg       0.86      0.81      0.83        40\n",
            "weighted avg       0.88      0.88      0.87        40\n",
            "\n"
          ]
        }
      ],
      "execution_count": 41
    },
    {
      "cell_type": "code",
      "source": [
        "train_accuracy = model.score(X_train, y_train)\n",
        "\n",
        "\n",
        "test_accuracy = model.score(X_test, y_test)\n",
        "\n",
        "print(\"Train Accuracy:\", train_accuracy)\n",
        "print(\"Test Accuracy:\", test_accuracy)\n"
      ],
      "metadata": {
        "trusted": true,
        "execution": {
          "iopub.status.busy": "2025-08-25T12:52:28.944354Z",
          "iopub.execute_input": "2025-08-25T12:52:28.94502Z",
          "iopub.status.idle": "2025-08-25T12:52:28.956542Z",
          "shell.execute_reply.started": "2025-08-25T12:52:28.944995Z",
          "shell.execute_reply": "2025-08-25T12:52:28.955364Z"
        },
        "colab": {
          "base_uri": "https://localhost:8080/"
        },
        "id": "-19EDp8_X_kd",
        "outputId": "e3776316-dc1f-4cbb-b35a-4decfb3dfdcf"
      },
      "outputs": [
        {
          "output_type": "stream",
          "name": "stdout",
          "text": [
            "Train Accuracy: 0.93125\n",
            "Test Accuracy: 0.875\n"
          ]
        }
      ],
      "execution_count": 42
    },
    {
      "cell_type": "code",
      "source": [
        "import matplotlib.pyplot as plt\n",
        "import seaborn as sns\n",
        "from sklearn.metrics import confusion_matrix\n",
        "\n",
        "features = ['Sex_M', 'Na_to_K', 'Cholesterol_NORMAL', 'Age', 'BP_NORMAL', 'BP_LOW']\n",
        "coefficients = model.coef_[0]  # لو binary classification\n",
        "\n",
        "\n",
        "plt.figure(figsize=(14,5))\n",
        "\n",
        "plt.subplot(1,2,1)\n",
        "colors = ['green' if c > 0 else 'red' for c in coefficients]\n",
        "plt.barh(features, coefficients, color=colors)\n",
        "plt.axvline(x=0, color='black', linewidth=0.8)\n",
        "plt.xlabel('Coefficient Value')\n",
        "plt.title('Feature Impact on Logistic Regression Outcome')\n",
        "\n",
        "\n",
        "plt.subplot(1,2,2)\n",
        "cm = confusion_matrix(y_test, y_pred)\n",
        "sns.heatmap(cm, annot=True, fmt='d', cmap='Blues', xticklabels=model.classes_, yticklabels=model.classes_)\n",
        "plt.xlabel('Predicted')\n",
        "plt.ylabel('Actual')\n",
        "plt.title('Confusion Matrix')\n",
        "\n",
        "plt.tight_layout()\n",
        "plt.show()\n"
      ],
      "metadata": {
        "trusted": true,
        "execution": {
          "iopub.status.busy": "2025-08-25T12:57:48.982758Z",
          "iopub.execute_input": "2025-08-25T12:57:48.98307Z",
          "iopub.status.idle": "2025-08-25T12:57:49.464136Z",
          "shell.execute_reply.started": "2025-08-25T12:57:48.983049Z",
          "shell.execute_reply": "2025-08-25T12:57:49.463182Z"
        },
        "colab": {
          "base_uri": "https://localhost:8080/",
          "height": 507
        },
        "id": "mXG_b8LvX_kd",
        "outputId": "ee6dd82e-6fa0-4595-ed55-04fc3fc803f4"
      },
      "outputs": [
        {
          "output_type": "display_data",
          "data": {
            "text/plain": [
              "<Figure size 1400x500 with 3 Axes>"
            ],
            "image/png": "[encoded data removed]"
          },
          "metadata": {}
        }
      ],
      "execution_count": 43
    }
  ]
}